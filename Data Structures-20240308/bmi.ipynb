{
 "cells": [
  {
   "cell_type": "markdown",
   "metadata": {},
   "source": [
    "# BMI\n",
    "## Calculate your BMI"
   ]
  },
  {
   "cell_type": "code",
   "execution_count": 4,
   "metadata": {},
   "outputs": [
    {
     "name": "stdout",
     "output_type": "stream",
     "text": [
      "Height is: 1.8m\n",
      "Weight is: 75kg\n",
      "BMI is: 23.148148148148145\n"
     ]
    }
   ],
   "source": [
    "height = 1.8\n",
    "weight = 75\n",
    "\n",
    "bmi = weight / (height**2)\n",
    "\n",
    "print('Height is: ' + str(height) + 'm'+ '\\n' + 'Weight is: ' + str(weight)+ 'kg' + '\\n' + 'BMI is: ' + str(bmi))"
   ]
  }
 ],
 "metadata": {
  "kernelspec": {
   "display_name": "Python 3",
   "language": "python",
   "name": "python3"
  },
  "language_info": {
   "codemirror_mode": {
    "name": "ipython",
    "version": 3
   },
   "file_extension": ".py",
   "mimetype": "text/x-python",
   "name": "python",
   "nbconvert_exporter": "python",
   "pygments_lexer": "ipython3",
   "version": "3.11.4"
  }
 },
 "nbformat": 4,
 "nbformat_minor": 2
}
