{
 "cells": [
  {
   "cell_type": "code",
   "execution_count": 1,
   "metadata": {},
   "outputs": [],
   "source": [
    "import pandas as pd"
   ]
  },
  {
   "cell_type": "code",
   "execution_count": 7,
   "metadata": {},
   "outputs": [
    {
     "name": "stdout",
     "output_type": "stream",
     "text": [
      "count         6.000000\n",
      "mean     763886.666667\n",
      "std       23344.075468\n",
      "min      740120.000000\n",
      "25%      747897.500000\n",
      "50%      759568.500000\n",
      "75%      771756.250000\n",
      "max      804237.000000\n",
      "dtype: float64\n",
      "Cracow's population in 2005:756629\n",
      "Average pupulation in Krakow between 1985 and 2023: 763886.6666666666\n"
     ]
    }
   ],
   "source": [
    "citizens = {'1985':740120, '1995':744987, '2005': 756629, '2015':762508, '2019': 774839, '2023':804237}\n",
    "\n",
    "citizens_series = pd.Series(data=citizens)\n",
    "\n",
    "population_in_2005 = citizens_series['2005']\n",
    "\n",
    "avg_1985_2023 = citizens_series.mean()\n",
    "\n",
    "print(citizens_series.describe())\n",
    "\n",
    "print('Cracow\\'s population in 2005:' + str(population_in_2005) + '\\n' + \n",
    "      'Average pupulation in Krakow between 1985 and 2023: ' + str(avg_1985_2023))\n"
   ]
  },
  {
   "cell_type": "code",
   "execution_count": null,
   "metadata": {},
   "outputs": [],
   "source": []
  }
 ],
 "metadata": {
  "kernelspec": {
   "display_name": "Python 3",
   "language": "python",
   "name": "python3"
  },
  "language_info": {
   "codemirror_mode": {
    "name": "ipython",
    "version": 3
   },
   "file_extension": ".py",
   "mimetype": "text/x-python",
   "name": "python",
   "nbconvert_exporter": "python",
   "pygments_lexer": "ipython3",
   "version": "3.11.4"
  }
 },
 "nbformat": 4,
 "nbformat_minor": 2
}
