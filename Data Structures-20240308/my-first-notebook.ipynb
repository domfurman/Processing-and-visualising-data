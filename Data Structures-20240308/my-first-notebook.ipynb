{
 "cells": [
  {
   "cell_type": "markdown",
   "metadata": {},
   "source": [
    "# MY FIRST JUPITER NOTEBOOK\n",
    "---"
   ]
  },
  {
   "cell_type": "markdown",
   "metadata": {},
   "source": [
    "## Short Definition\n",
    "A Jupyter notebook is a web-based interactive environment for creating and sharing documents that contain **code, text, and visualizations**. It is a powerful tool for data science, machine learning, and other technical fields.\n",
    "\n",
    "Jupyter notebooks are organized into **cells, which can contain either code or text**. Code cells are executed by the Jupyter kernel, which is a programming environment that runs the code and displays the results. Text cells can contain Markdown or LaTeX formatting, which allows you to create rich and readable documents."
   ]
  },
  {
   "cell_type": "markdown",
   "metadata": {},
   "source": [
    "## Simple Example"
   ]
  },
  {
   "cell_type": "markdown",
   "metadata": {},
   "source": [
    "Below, in the code cells, you have simple Python statements. Execute these cells one by one. Note that data can be displayed in many ways."
   ]
  },
  {
   "cell_type": "code",
   "execution_count": 1,
   "metadata": {},
   "outputs": [
    {
     "data": {
      "text/plain": [
       "'Peter'"
      ]
     },
     "execution_count": 1,
     "metadata": {},
     "output_type": "execute_result"
    }
   ],
   "source": [
    "name = 'Peter'\n",
    "name"
   ]
  },
  {
   "cell_type": "code",
   "execution_count": null,
   "metadata": {},
   "outputs": [],
   "source": [
    "age = 23\n",
    "print('My name is ' + name)\n",
    "print('I am ' + str(age))"
   ]
  },
  {
   "cell_type": "code",
   "execution_count": null,
   "metadata": {},
   "outputs": [],
   "source": [
    "older = age + 7\n",
    "f'In seven years, I will be {older}'"
   ]
  },
  {
   "cell_type": "markdown",
   "metadata": {},
   "source": [
    "### Tasks"
   ]
  },
  {
   "cell_type": "markdown",
   "metadata": {},
   "source": [
    "A student took part in three tests. He scored 20 points on the first test, 15 points on the second test, and 30 points on the third test. Calculate and display:\n",
    "\n",
    "* the sum of points from all tests\n",
    "* the arithmetic mean of the points obtained"
   ]
  },
  {
   "cell_type": "code",
   "execution_count": 2,
   "metadata": {},
   "outputs": [
    {
     "name": "stdout",
     "output_type": "stream",
     "text": [
      "Sum is65\n",
      "Arithmetic mean is 21.666666666666668\n"
     ]
    }
   ],
   "source": [
    "test1 = 20\n",
    "test2 = 15\n",
    "test3 = 30\n",
    "sum = test1 + test2 + test3\n",
    "avg = sum/3\n",
    "print('Sum is' + str(sum) + '\\n' + 'Arithmetic mean is ' + str(avg))\n",
    "# complete this task\n",
    "# display results along with some description (do not diplay only raw numbers)"
   ]
  },
  {
   "cell_type": "markdown",
   "metadata": {},
   "source": [
    "A bicycle speed is 25 km/h. Display the bicycle speed in both km/h and m/s."
   ]
  },
  {
   "cell_type": "code",
   "execution_count": 4,
   "metadata": {},
   "outputs": [
    {
     "name": "stdout",
     "output_type": "stream",
     "text": [
      "Speed: 25\n",
      "Speed in m/s: 6.944444444444445\n"
     ]
    }
   ],
   "source": [
    "speed = 25\n",
    "speed_in_ms = 25 * 1000 / 3600\n",
    "print('Speed in km\\h: ' + str(speed) +'\\n' + 'Speed in m/s: ' + str(speed_in_ms))"
   ]
  },
  {
   "cell_type": "markdown",
   "metadata": {},
   "source": [
    "The distance from Krakow to Warsaw is 315 km. Travel time by car is 210 minutes. Calculate and display the average speed of the car in km/h."
   ]
  },
  {
   "cell_type": "code",
   "execution_count": 9,
   "metadata": {},
   "outputs": [
    {
     "name": "stdout",
     "output_type": "stream",
     "text": [
      "Average speed is: 90.0 km/h\n"
     ]
    }
   ],
   "source": [
    "s= 315\n",
    "t = 210 / 60\n",
    "\n",
    "v = s/t\n",
    "\n",
    "print('Average speed is: ' + str(v) + ' km/h')"
   ]
  },
  {
   "cell_type": "markdown",
   "metadata": {},
   "source": [
    "## Entering Data from Keyboard"
   ]
  },
  {
   "cell_type": "markdown",
   "metadata": {},
   "source": [
    "You can also enter data using the keyboard. The input() statement is used for this purpose. Note that keyboard input is in text form. So, if you want to enter a number, you must convert the entered value to a number after entering it. The int() and float() functions are used for this purpose."
   ]
  },
  {
   "cell_type": "code",
   "execution_count": null,
   "metadata": {},
   "outputs": [],
   "source": [
    "name = input('Product name: ')\n",
    "qty = input('Product quantity: ')\n",
    "qty = int(qty)\n",
    "print(name,qty)"
   ]
  },
  {
   "cell_type": "markdown",
   "metadata": {},
   "source": [
    "### Tasks"
   ]
  },
  {
   "cell_type": "markdown",
   "metadata": {},
   "source": [
    "Calculate and display the area and perimeter of a rectangle with sides a and b. Read the lengths of the rectangle's sides from the keyboard."
   ]
  },
  {
   "cell_type": "code",
   "execution_count": 10,
   "metadata": {},
   "outputs": [
    {
     "name": "stdout",
     "output_type": "stream",
     "text": [
      "Area: 144\n",
      "Perimeter: 48\n"
     ]
    }
   ],
   "source": [
    "a = input('Side a: ')\n",
    "b = input('Side b: ')\n",
    "\n",
    "a = int(a)\n",
    "b = int(b)\n",
    "\n",
    "area = a*b\n",
    "perimeter = 2*a + 2*b\n",
    "\n",
    "print('Area: ' + str(area) + '\\n' + 'Perimeter: ' + str(perimeter))"
   ]
  }
 ],
 "metadata": {
  "kernelspec": {
   "display_name": "Python 3",
   "language": "python",
   "name": "python3"
  },
  "language_info": {
   "codemirror_mode": {
    "name": "ipython",
    "version": 3
   },
   "file_extension": ".py",
   "mimetype": "text/x-python",
   "name": "python",
   "nbconvert_exporter": "python",
   "pygments_lexer": "ipython3",
   "version": "3.11.4"
  }
 },
 "nbformat": 4,
 "nbformat_minor": 2
}
